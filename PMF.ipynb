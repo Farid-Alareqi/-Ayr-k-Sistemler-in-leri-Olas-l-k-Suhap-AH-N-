{
  "nbformat": 4,
  "nbformat_minor": 0,
  "metadata": {
    "colab": {
      "name": "PMF.ipynb",
      "provenance": [],
      "collapsed_sections": [],
      "authorship_tag": "ABX9TyOCVABfmO+6UzCi718NDyMA",
      "include_colab_link": true
    },
    "kernelspec": {
      "name": "python3",
      "display_name": "Python 3"
    },
    "language_info": {
      "name": "python"
    }
  },
  "cells": [
    {
      "cell_type": "markdown",
      "metadata": {
        "id": "view-in-github",
        "colab_type": "text"
      },
      "source": [
        "<a href=\"https://colab.research.google.com/github/Farid-Alareqi/-Ayrik-Sistemler-icin-ileri-Olasilik/blob/main/PMF.ipynb\" target=\"_parent\"><img src=\"https://colab.research.google.com/assets/colab-badge.svg\" alt=\"Open In Colab\"/></a>"
      ]
    },
    {
      "cell_type": "markdown",
      "source": [
        "# Random Variable\n",
        "\n",
        "\n",
        "---\n",
        "\n",
        "\n",
        "Let’s say that the variable x is a random variable expressing the result of a dice roll 🎲. The variable can take the value 1, 2, 3, 4, 5 or 6. It is a discrete random variable.\n",
        "\n",
        "So a random variable can take multiple values. One very important thing is to know if some values will be more often encountered than others. The description of the probability of each possible value that a random variable can take is called its probability distribution.\n",
        "\n",
        "The probability distribution of a random variable x describes the probability of each outcome. This function is called probability distribution. More specifically, it is called the probability mass function for a discrete variable and probability density function for a continuous variable.\n",
        "\n",
        "\n",
        "\n",
        "---\n",
        "\n",
        "# Probability Mass Function\n",
        "\n",
        "\n",
        "---\n",
        "\n",
        "The probability mass function is the function which describes the probability associated with the random variable x. This function is named P(x) or P(x=x) to avoid confusion. P(X=x) corresponds to the probability that the random variable X take the value x.\n",
        "\n",
        "**Example 1.**\n",
        "\n",
        "Let us take the experiment of tossing three coins simultaneously:\n",
        "\n",
        "When we toss three coins simultaneously then the possible of outcomes are: (HHH) or (HHT) or (HTH) or (THH) or (HTT) or (THT) or (TTH) or (TTT) respectively; where H is denoted for head and T is denoted for tail.\n",
        "Therefore, total numbers of outcome are 2^3 = 8 \n",
        "\n",
        "In tossing three coins, the sample space is given by\n",
        "\n",
        "S = {HHH, HHT, HTH, THH, HTT, THT, TTH, TTT} And, therefore, n(S) = 8.\n",
        "\n",
        "X is the number of getting head, Thus RANGE(X) = {0 , 1, 2, 3}. So probability mass function is given by : P(X = 0) = 1/8, P(X = 1) = 3/8, P(X = 2) = 3/8, P(X = 3) = 1/8\n",
        "\n",
        "\n",
        "\n",
        "---\n",
        "\n",
        "# Python code"
      ],
      "metadata": {
        "id": "_f1nvnc0FOt8"
      }
    },
    {
      "cell_type": "code",
      "execution_count": 85,
      "metadata": {
        "colab": {
          "base_uri": "https://localhost:8080/",
          "height": 334
        },
        "id": "_Z8cfZKq8Sty",
        "outputId": "ccc7a7ac-8b43-4f78-8dfb-65faaf4572f1"
      },
      "outputs": [
        {
          "output_type": "stream",
          "name": "stdout",
          "text": [
            "X = [0 1 2 3]\n",
            "Probability Mass Function for X = [0.125 0.375 0.375 0.125] \n",
            "\n"
          ]
        },
        {
          "output_type": "display_data",
          "data": {
            "text/plain": [
              "<Figure size 432x288 with 1 Axes>"
            ],
            "image/png": "[encoded data removed]"
          },
          "metadata": {
            "needs_background": "light"
          }
        }
      ],
      "source": [
        "from scipy import stats\n",
        "import matplotlib.pyplot as plt\n",
        "import numpy as np\n",
        "\n",
        "# S = {HHH , HHT, HTH, HTT, THH, THT, TTH, TTT}\n",
        "\n",
        "S = np.array([3, 2, 2, 1, 2, 1, 1, 0])\n",
        "unique, counts = np.unique(S, return_counts=True)\n",
        "print(\"X =\",unique)\n",
        "\n",
        "xk = np.arange(4)\n",
        "pk = counts/len(S)\n",
        "print(\"Probability Mass Function for X =\",pk,\"\\n\")\n",
        "\n",
        "dpd = stats.rv_discrete( values=(xk, pk))\n",
        "\n",
        "fig, ax = plt.subplots(1, 1)\n",
        "ax.plot(xk, dpd.pmf(xk), 'ro', ms=7, mec='b')\n",
        "ax.vlines(xk, 0, dpd.pmf(xk), colors='k', linestyles='-', lw=1.5)\n",
        "plt.title('Discrete Probability Distribution(PMF)')\n",
        "plt.xticks(range(0,4))\n",
        "plt.ylabel('Probability')\n",
        "plt.show()"
      ]
    }
  ]
}