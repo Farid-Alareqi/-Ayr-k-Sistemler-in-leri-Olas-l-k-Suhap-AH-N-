{
  "nbformat": 4,
  "nbformat_minor": 0,
  "metadata": {
    "colab": {
      "name": "Probability.ipynb",
      "provenance": [],
      "collapsed_sections": [],
      "authorship_tag": "ABX9TyNe8co3+pXCRkAyZ8VFEhmK",
      "include_colab_link": true
    },
    "kernelspec": {
      "name": "python3",
      "display_name": "Python 3"
    },
    "language_info": {
      "name": "python"
    }
  },
  "cells": [
    {
      "cell_type": "markdown",
      "metadata": {
        "id": "view-in-github",
        "colab_type": "text"
      },
      "source": [
        "<a href=\"https://colab.research.google.com/github/Farid-Alareqi/-Ayrik-Sistemler-icin-ileri-Olasilik/blob/main/Probability.ipynb\" target=\"_parent\"><img src=\"https://colab.research.google.com/assets/colab-badge.svg\" alt=\"Open In Colab\"/></a>"
      ]
    },
    {
      "cell_type": "markdown",
      "source": [
        "# Probability\n",
        "**Question 1:**\n",
        "\n",
        "If you roll a six-sided dice, what is the probability of getting an even number or 1?\n",
        "\n",
        "**Answer:**\n",
        "\n",
        "We can calculate the probability of getting an even number or on 1 as follows:\n",
        "\n",
        "P(even number or 1) = P(even number) + P(1) = (3/6)+(1/6) = 4/6 = 66.7%\n",
        "\n"
      ],
      "metadata": {
        "id": "aHRKNG4yMk2c"
      }
    },
    {
      "cell_type": "code",
      "source": [
        "#Sample Space\n",
        "dice_sides = 6\n",
        "\n",
        "# Desired outcome\n",
        "even_number = 3\n",
        "one = 1\n",
        "\n",
        "# Devide desired outcome by the sample space\n",
        "even_number_probability = 3/6\n",
        "one_probability = 1/6\n",
        "Event_probability = even_number_probability + one_probability\n",
        "print(round(Event_probability,3)*100,\"%\")"
      ],
      "metadata": {
        "colab": {
          "base_uri": "https://localhost:8080/"
        },
        "id": "IJO2KkJaOXq2",
        "outputId": "40ecacc7-a796-4eba-c7df-6fc1586823dc"
      },
      "execution_count": 7,
      "outputs": [
        {
          "output_type": "stream",
          "name": "stdout",
          "text": [
            "66.7 %\n"
          ]
        }
      ]
    },
    {
      "cell_type": "markdown",
      "source": [
        "**Question 2:**\n",
        "\n",
        "If you draw a card from 52-card deck, what is the probability of getting a diamond?\n",
        "\n",
        "**Answer:** \n",
        "\n",
        "We can calculate the probability of getting a diamond as follows:\n",
        "\n",
        "P(diamond) = 13/52 = 25%"
      ],
      "metadata": {
        "id": "BEK2PQxpWgAi"
      }
    },
    {
      "cell_type": "code",
      "execution_count": 19,
      "metadata": {
        "colab": {
          "base_uri": "https://localhost:8080/"
        },
        "id": "QzMje39NHHJg",
        "outputId": "7adf2f69-20d7-4d16-89a4-535169dbc932"
      },
      "outputs": [
        {
          "output_type": "stream",
          "name": "stdout",
          "text": [
            "25.0 %\n"
          ]
        }
      ],
      "source": [
        "#Sample Space\n",
        "all_cards = 52\n",
        "\n",
        "# Desired outcome\n",
        "diamond = 13\n",
        "\n",
        "# Devide desired outcome by the sample space\n",
        "diamond_probability = 13/52\n",
        "\n",
        "print(round(diamond_probability,2)*100,\"%\")\n"
      ]
    }
  ]
}