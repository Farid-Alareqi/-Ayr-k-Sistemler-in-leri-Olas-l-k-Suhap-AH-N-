{
  "nbformat": 4,
  "nbformat_minor": 0,
  "metadata": {
    "colab": {
      "name": "Pigeonhole principle.ipynb",
      "provenance": [],
      "authorship_tag": "ABX9TyNt9qtrIRho7lY2yjuWdPsL",
      "include_colab_link": true
    },
    "kernelspec": {
      "name": "python3",
      "display_name": "Python 3"
    },
    "language_info": {
      "name": "python"
    }
  },
  "cells": [
    {
      "cell_type": "markdown",
      "metadata": {
        "id": "view-in-github",
        "colab_type": "text"
      },
      "source": [
        "<a href=\"https://colab.research.google.com/github/Farid-Alareqi/-Ayr-k-Sistemler-in-leri-Olas-l-k-Suhap-AH-N-/blob/main/Pigeonhole_principle.ipynb\" target=\"_parent\"><img src=\"https://colab.research.google.com/assets/colab-badge.svg\" alt=\"Open In Colab\"/></a>"
      ]
    },
    {
      "cell_type": "markdown",
      "source": [
        "A bag contains 10 red marbles, 10 white marbles, and 10 blue marbles.\n",
        "What is the minimum no. of marbles you have to choose randomly from the bag to ensure that we get 4 marbles of same color?"
      ],
      "metadata": {
        "id": "SE3W-h5m4IOE"
      }
    },
    {
      "cell_type": "markdown",
      "source": [
        "**Solution**: Apply pigeonhole principle.\n",
        "\n",
        "No. of colors (pigeonholes) n = 3\n",
        "\n",
        "No. of marbles (pigeons) K+1 = 4\n",
        "\n",
        "Therefore the minimum no. of marbles required = Kn+1\n",
        "\n",
        "By simplifying we get Kn+1 = 10.\n",
        "\n",
        "Verification: ceil [Average] is [Kn+1/n] = 4\n",
        "\n",
        "Kn+1 = 10\n",
        "\n",
        "i.e., 3 red + 3 white + 3 blue + 1(red or white or blue) = 10"
      ],
      "metadata": {
        "id": "89YE12fg4tqG"
      }
    },
    {
      "cell_type": "code",
      "execution_count": 4,
      "metadata": {
        "colab": {
          "base_uri": "https://localhost:8080/"
        },
        "id": "boCMyjL84ATR",
        "outputId": "53bf871c-4457-4fda-c7ef-c92c80f2f7d4"
      },
      "outputs": [
        {
          "output_type": "execute_result",
          "data": {
            "text/plain": [
              "10"
            ]
          },
          "metadata": {},
          "execution_count": 4
        }
      ],
      "source": [
        "def min_of_marbles(red,white,blue,same_color):\n",
        "  if same_color>red or same_color>white or same_color>blue:\n",
        "    print(\"Minimum number of the marbles with the same color is greater than the number of marbles with the same color itself!\")\n",
        "    \n",
        "  else:\n",
        "    n=3 #number of colors\n",
        "    k=same_color-1 \n",
        "    return k*n+1\n",
        "\n",
        "min_of_marbles(10,10,10,4)"
      ]
    }
  ]
}